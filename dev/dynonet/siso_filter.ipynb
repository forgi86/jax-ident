{
 "cells": [
  {
   "cell_type": "code",
   "execution_count": null,
   "metadata": {},
   "outputs": [],
   "source": [
    "import jax\n",
    "from jax import random\n",
    "import jax.numpy as jnp\n",
    "from util import filter_step"
   ]
  },
  {
   "cell_type": "code",
   "execution_count": null,
   "metadata": {},
   "outputs": [],
   "source": [
    "# some coefficients to play with\n",
    "a_coeff = jnp.array([-.3, -0.5]) # a1, a2 (a0 is always 1)\n",
    "b_coeff = jnp.array([1.0, 0.0, 1.0]) # b0, b1, b2"
   ]
  },
  {
   "cell_type": "code",
   "execution_count": null,
   "metadata": {},
   "outputs": [],
   "source": [
    "# initial conditions\n",
    "u_carry = jnp.array([0.0, 0.0]) # u-1, u-2\n",
    "y_carry = jnp.array([0.0, 0.0]) # y-1, y-2"
   ]
  },
  {
   "cell_type": "code",
   "execution_count": null,
   "metadata": {},
   "outputs": [],
   "source": [
    "# simulate one step\n",
    "u_step = jnp.array(1.0) # u0\n",
    "\n",
    "u_carry = jnp.r_[u_step, u_carry]\n",
    "y_new = jnp.dot(b_coeff, u_carry) - jnp.dot(a_coeff, y_carry)\n",
    "u_carry = u_carry[:-1]\n",
    "y_carry = jnp.r_[y_new, y_carry][:-1]\n",
    "\n",
    "\n",
    "y_new"
   ]
  },
  {
   "cell_type": "code",
   "execution_count": null,
   "metadata": {},
   "outputs": [],
   "source": [
    "# some random data\n",
    "key = random.key(200)\n",
    "u = jax.random.normal(key, (200,))"
   ]
  },
  {
   "cell_type": "code",
   "execution_count": null,
   "metadata": {},
   "outputs": [],
   "source": [
    "# simulate with scan\n",
    "u_carry = jnp.array([0.0, 0.0]) # u-1, u-2\n",
    "y_carry = jnp.array([0.0, 0.0]) # y-1, y-2\n",
    "carry = (u_carry, y_carry)\n",
    "param = (b_coeff, a_coeff)\n",
    "func = lambda carry, u: filter_step(param, carry, u)\n",
    "last_carry, y = jax.lax.scan(func, carry, u)"
   ]
  },
  {
   "cell_type": "code",
   "execution_count": null,
   "metadata": {},
   "outputs": [],
   "source": [
    "# simulate with scipy\n",
    "import scipy.signal as signal\n",
    "y_lfilter = signal.lfilter(b_coeff, jnp.r_[1.0, a_coeff], u, axis=0)"
   ]
  },
  {
   "cell_type": "code",
   "execution_count": null,
   "metadata": {},
   "outputs": [],
   "source": [
    "import matplotlib.pyplot as plt\n",
    "plt.plot(y, \"k\")\n",
    "plt.plot(y_lfilter, \"b\")\n",
    "plt.plot(y-y_lfilter, \"r\");"
   ]
  }
 ],
 "metadata": {
  "kernelspec": {
   "display_name": "dev",
   "language": "python",
   "name": "python3"
  },
  "language_info": {
   "codemirror_mode": {
    "name": "ipython",
    "version": 3
   },
   "file_extension": ".py",
   "mimetype": "text/x-python",
   "name": "python",
   "nbconvert_exporter": "python",
   "pygments_lexer": "ipython3",
   "version": "3.11.0"
  }
 },
 "nbformat": 4,
 "nbformat_minor": 2
}
