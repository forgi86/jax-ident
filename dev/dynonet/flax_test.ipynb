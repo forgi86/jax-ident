{
 "cells": [
  {
   "cell_type": "code",
   "execution_count": null,
   "metadata": {},
   "outputs": [],
   "source": [
    "import jax\n",
    "from typing import Any, Callable, Sequence\n",
    "from jax import random, numpy as jnp\n",
    "import flax\n",
    "from flax import linen as nn"
   ]
  },
  {
   "cell_type": "code",
   "execution_count": null,
   "metadata": {},
   "outputs": [],
   "source": [
    "class SimpleDense(nn.Module):\n",
    "    features: int\n",
    "    kernel_init: Callable = nn.initializers.lecun_normal()\n",
    "    bias_init: Callable = nn.initializers.zeros_init()\n",
    "\n",
    "    @nn.compact\n",
    "    def __call__(self, inputs):\n",
    "        kernel = self.param(\n",
    "            \"kernel\",\n",
    "            self.kernel_init,  # Initialization function\n",
    "            (inputs.shape[-1], self.features),\n",
    "        )  # shape info.\n",
    "        y = jnp.dot(inputs, kernel)\n",
    "        bias = self.param(\"bias\", self.bias_init, (self.features,))\n",
    "        y = y + bias\n",
    "        return y"
   ]
  },
  {
   "cell_type": "code",
   "execution_count": null,
   "metadata": {},
   "outputs": [],
   "source": [
    "key1, key2 = random.split(random.key(0), 2)\n",
    "x = random.uniform(key1, (4, 4))"
   ]
  },
  {
   "cell_type": "code",
   "execution_count": null,
   "metadata": {},
   "outputs": [],
   "source": [
    "model = SimpleDense(features=3)\n",
    "params = model.init(key2, x)\n",
    "y = model.apply(params, x)\n",
    "y.shape"
   ]
  },
  {
   "cell_type": "code",
   "execution_count": null,
   "metadata": {},
   "outputs": [],
   "source": [
    "params[\"params\"][\"kernel\"].shape"
   ]
  },
  {
   "cell_type": "code",
   "execution_count": null,
   "metadata": {},
   "outputs": [],
   "source": [
    "# simulate one step with a function (for later use with scan)\n",
    "def filter_step(params, carry, u_step):\n",
    "\n",
    "    b_coeff, a_coeff = params\n",
    "    u_carry, y_carry = carry\n",
    "    u_carry = jnp.r_[u_step, u_carry]\n",
    "    y_new = jnp.dot(b_coeff, u_carry) - jnp.dot(a_coeff, y_carry)\n",
    "\n",
    "    u_carry = u_carry[:-1]\n",
    "    y_carry = jnp.r_[y_new,  y_carry][:-1]\n",
    "    carry = (u_carry, y_carry)\n",
    "    return carry, y_new\n",
    "\n",
    "\n",
    "filter_step_simo = jax.vmap(filter_step, in_axes=(0, 0, 0)) # params, carry, u_step\n",
    "filter_step_mimo = jax.vmap(filter_step_simo, in_axes=(0, 0, None)) # params, carry, u_step\n",
    "\n",
    "def mimo_filter(params, carry, u):\n",
    "    _, y_all = jax.lax.scan(lambda carry, u: filter_step_mimo(params, carry, u), carry, u)\n",
    "    return  y_all.mean(axis=-1)\n",
    "\n",
    "batched_mimo_filter = jax.vmap(mimo_filter, in_axes=(None, 0, 0))"
   ]
  },
  {
   "cell_type": "code",
   "execution_count": null,
   "metadata": {},
   "outputs": [],
   "source": [
    "filter_step_simo = jax.vmap(filter_step, in_axes=(0, 0, 0)) # params, carry, u_step\n",
    "filter_step_mimo = jax.vmap(filter_step_simo, in_axes=(0, 0, None)) # params, carry, u_step\n",
    "\n",
    "def mimo_filter(params, carry, u):\n",
    "    _, y_all = jax.lax.scan(lambda carry, u: filter_step_mimo(params, carry, u), carry, u)\n",
    "    return  y_all.mean(axis=-1)\n",
    "\n",
    "batched_mimo_filter = jax.vmap(mimo_filter, in_axes=(None, 0, 0))"
   ]
  },
  {
   "cell_type": "code",
   "execution_count": null,
   "metadata": {},
   "outputs": [],
   "source": [
    "def fixed_std_initializer(std):\n",
    "    \"\"\"\n",
    "    Returns a Flax initializer that initializes the weights with a fixed standard deviation.\n",
    "    \n",
    "    Args:\n",
    "    variance (float): The desired variance of the weights.\n",
    "\n",
    "    Returns:\n",
    "    An initializer function.\n",
    "    \"\"\"\n",
    "    def initializer(key, shape, dtype=jnp.float32):\n",
    "        # Calculate standard deviation from the desired variance\n",
    "        # Initialize weights from a normal distribution scaled by the std_dev\n",
    "        return jax.random.normal(key, shape, dtype) * std\n",
    "    return initializer"
   ]
  },
  {
   "cell_type": "code",
   "execution_count": null,
   "metadata": {},
   "outputs": [],
   "source": [
    "class MimoLTI(nn.Module):\n",
    "    in_channels: int = 1\n",
    "    out_channels: int = 1\n",
    "    nb: int = 3\n",
    "    na: int = 2\n",
    "\n",
    "    kernel_init: Callable = fixed_std_initializer(1e-3)\n",
    "\n",
    "    @nn.compact\n",
    "    def __call__(self, inputs):\n",
    "\n",
    "        b_coeff = self.param(\n",
    "            \"b_coeff\",\n",
    "            self.kernel_init,  # Initialization function\n",
    "            (self.out_channels, self.in_channels, self.nb),\n",
    "        )  # shape info.\n",
    "\n",
    "        a_coeff = self.param(\n",
    "            \"a_coeff\",\n",
    "            self.kernel_init,  # Initialization function\n",
    "            (self.out_channels, self.in_channels, self.na),\n",
    "        )  # shape info.\n",
    "        params = (b_coeff, a_coeff)\n",
    "\n",
    "        u_carry = jnp.zeros((inputs.shape[0], self.out_channels, self.in_channels, self.nb - 1))\n",
    "        y_carry = jnp.zeros((inputs.shape[0], self.out_channels, self.in_channels, self.na))\n",
    "        carry = (u_carry, y_carry)\n",
    "        y = batched_mimo_filter(params, carry, inputs)\n",
    "        #y = inputs + 1\n",
    "        return y"
   ]
  },
  {
   "cell_type": "code",
   "execution_count": null,
   "metadata": {},
   "outputs": [],
   "source": [
    "I = 3 # number of inputs\n",
    "O = 2 # number of outputs\n",
    "T = 1000 # number of time steps\n",
    "B = 32 # batch size\n",
    "na = 4\n",
    "nb = 5"
   ]
  },
  {
   "cell_type": "code",
   "execution_count": null,
   "metadata": {},
   "outputs": [],
   "source": [
    "u = random.normal(key2, (B, T, I))\n",
    "model = MimoLTI(I, O, nb, na)\n",
    "params = model.init(key2, u)\n",
    "y1 = model.apply(params, u)\n",
    "y1.shape"
   ]
  },
  {
   "cell_type": "code",
   "execution_count": null,
   "metadata": {},
   "outputs": [],
   "source": [
    "u_carry = jnp.zeros((B, O, I, nb - 1))  # u-1, u-2\n",
    "y_carry = jnp.zeros((B, O, I, na))  # y-1, y-2\n",
    "\n",
    "carry = (u_carry, y_carry)\n",
    "y2 = batched_mimo_filter((params[\"params\"][\"b_coeff\"], params[\"params\"][\"a_coeff\"]), (u_carry, y_carry), u)\n",
    "y2.shape"
   ]
  }
 ],
 "metadata": {
  "kernelspec": {
   "display_name": "dev",
   "language": "python",
   "name": "python3"
  },
  "language_info": {
   "codemirror_mode": {
    "name": "ipython",
    "version": 3
   },
   "file_extension": ".py",
   "mimetype": "text/x-python",
   "name": "python",
   "nbconvert_exporter": "python",
   "pygments_lexer": "ipython3",
   "version": "3.11.0"
  }
 },
 "nbformat": 4,
 "nbformat_minor": 2
}
