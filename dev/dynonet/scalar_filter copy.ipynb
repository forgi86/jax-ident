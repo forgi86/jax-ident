{
 "cells": [
  {
   "cell_type": "code",
   "execution_count": null,
   "metadata": {},
   "outputs": [],
   "source": [
    "import jax\n",
    "from jax import random\n",
    "import jax.numpy as jnp"
   ]
  },
  {
   "cell_type": "code",
   "execution_count": null,
   "metadata": {},
   "outputs": [],
   "source": [
    "# coefficients for the ARMA model\n",
    "a_coeff = jnp.array([-.9])#, -0.5]) # a1, a2 (a0 is always 1)\n",
    "b_coeff = jnp.array([0.0, 0.1]) # b0, b1, b2"
   ]
  },
  {
   "cell_type": "code",
   "execution_count": null,
   "metadata": {},
   "outputs": [],
   "source": [
    "# initial conditions\n",
    "u_carry = jnp.array([0.0]) # u-1, u-2\n",
    "y_carry = jnp.array([1.0])#, 0.0]) # y-1, y-2"
   ]
  },
  {
   "cell_type": "code",
   "execution_count": null,
   "metadata": {},
   "outputs": [],
   "source": [
    "# simulate one step\n",
    "ut = jnp.array(1.0) # u0\n",
    "\n",
    "u_carry = jnp.r_[ut, u_carry]\n",
    "y_new = jnp.dot(b_coeff, u_carry) - jnp.dot(a_coeff, y_carry)\n",
    "u_carry = u_carry[:-1]\n",
    "y_carry = jnp.r_[y_new, y_carry][:-1]\n",
    "\n",
    "\n",
    "y_new"
   ]
  },
  {
   "cell_type": "code",
   "execution_count": null,
   "metadata": {},
   "outputs": [],
   "source": [
    "# simulate one step\n",
    "ut = jnp.array(1.0) # u0\n",
    "\n",
    "\n",
    "y_new = jnp.dot(b_coeff, jnp.r_[ut, u_carry]) - jnp.dot(a_coeff, y_carry)\n",
    "\n",
    "u_carry = jnp.r_[ut, u_carry][:-1]\n",
    "y_carry = jnp.r_[y_new, y_carry][:-1]\n",
    "\n",
    "y_new"
   ]
  },
  {
   "cell_type": "code",
   "execution_count": null,
   "metadata": {},
   "outputs": [],
   "source": [
    "u_carry = jnp.array([0.0]) # u-1, u-2\n",
    "y_carry = jnp.array([1.0])#, 0.0]) # y-1, y-2\n",
    "carry = (u_carry, y_carry)"
   ]
  },
  {
   "cell_type": "code",
   "execution_count": null,
   "metadata": {},
   "outputs": [],
   "source": [
    "\n",
    "def filter_step(carry, ut):\n",
    "\n",
    "    u_carry, y_carry = carry\n",
    "    u_carry = jnp.r_[ut, u_carry]\n",
    "    y_new = jnp.dot(b_coeff, u_carry) - jnp.dot(a_coeff, y_carry)\n",
    "\n",
    "    u_carry = u_carry[:-1]\n",
    "    y_carry = jnp.r_[y_new,  y_carry][:-1]\n",
    "    carry = (u_carry, y_carry)\n",
    "    return carry, y_new\n",
    "\n",
    "carry, y = filter_step(carry, ut)\n",
    "y_carry"
   ]
  },
  {
   "cell_type": "code",
   "execution_count": null,
   "metadata": {},
   "outputs": [],
   "source": [
    "key = random.key(42)\n",
    "u = jax.random.normal(key, (100, 1))"
   ]
  },
  {
   "cell_type": "code",
   "execution_count": null,
   "metadata": {},
   "outputs": [],
   "source": [
    "u_carry = jnp.array([0.0]) # u-1, u-2\n",
    "y_carry = jnp.array([0.0])#, 0.0]) # y-1, y-2\n",
    "\n",
    "last_carry, y = jax.lax.scan(filter_step, (u_carry, y_carry), u)"
   ]
  },
  {
   "cell_type": "code",
   "execution_count": null,
   "metadata": {},
   "outputs": [],
   "source": [
    "u.shape"
   ]
  },
  {
   "cell_type": "code",
   "execution_count": null,
   "metadata": {},
   "outputs": [],
   "source": [
    "import matplotlib.pyplot as plt\n",
    "import scipy.signal as signal\n",
    "y_lfilter = signal.lfilter(b_coeff, jnp.r_[1.0, a_coeff], u, axis=0)\n",
    "\n",
    "plt.plot(y)\n",
    "plt.plot(y_lfilter, \"r\")"
   ]
  },
  {
   "cell_type": "code",
   "execution_count": null,
   "metadata": {},
   "outputs": [],
   "source": [
    "jnp.r_[1.0, a_coeff]"
   ]
  },
  {
   "cell_type": "code",
   "execution_count": null,
   "metadata": {},
   "outputs": [],
   "source": []
  }
 ],
 "metadata": {
  "kernelspec": {
   "display_name": "dev",
   "language": "python",
   "name": "python3"
  },
  "language_info": {
   "codemirror_mode": {
    "name": "ipython",
    "version": 3
   },
   "file_extension": ".py",
   "mimetype": "text/x-python",
   "name": "python",
   "nbconvert_exporter": "python",
   "pygments_lexer": "ipython3",
   "version": "3.11.0"
  }
 },
 "nbformat": 4,
 "nbformat_minor": 2
}
