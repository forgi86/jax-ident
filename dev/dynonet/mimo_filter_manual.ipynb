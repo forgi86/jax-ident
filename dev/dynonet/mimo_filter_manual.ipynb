{
 "cells": [
  {
   "cell_type": "code",
   "execution_count": null,
   "metadata": {},
   "outputs": [],
   "source": [
    "import jax\n",
    "from jax import random\n",
    "import jax.numpy as jnp"
   ]
  },
  {
   "cell_type": "code",
   "execution_count": null,
   "metadata": {},
   "outputs": [],
   "source": [
    "# some coefficients to play with\n",
    "\n",
    "I = 2 # number of inputs\n",
    "O = 3 # number of outputs\n",
    "na = 4\n",
    "nb = 5"
   ]
  },
  {
   "cell_type": "code",
   "execution_count": null,
   "metadata": {},
   "outputs": [],
   "source": [
    "key = random.key(200)\n",
    "a_coeff = random.normal(key, (O, I, na)) \n",
    "b_coeff = random.normal(key, (O, I, nb)) "
   ]
  },
  {
   "cell_type": "code",
   "execution_count": null,
   "metadata": {},
   "outputs": [],
   "source": [
    "# initial conditions\n",
    "u_carry = jnp.array([O, I, 0.0, 0.0]) # u-1, u-2\n",
    "y_carry = jnp.array([O, I, 0.0, 0.0]) # y-1, y-2"
   ]
  },
  {
   "cell_type": "code",
   "execution_count": null,
   "metadata": {},
   "outputs": [],
   "source": [
    "# simulate one step\n",
    "u_step = jnp.array(I, 1.0) # u0\n",
    "\n",
    "u_carry = jnp.r_[u_step, u_carry]\n",
    "y_new = jnp.dot(b_coeff, u_carry) - jnp.dot(a_coeff, y_carry)\n",
    "u_carry = u_carry[:-1]\n",
    "y_carry = jnp.r_[y_new, y_carry][:-1]\n",
    "\n",
    "\n",
    "y_new"
   ]
  },
  {
   "cell_type": "code",
   "execution_count": null,
   "metadata": {},
   "outputs": [],
   "source": [
    "# simulate one step with a function (for later use with scan)\n",
    "def filter_step(carry, u_step):\n",
    "\n",
    "    u_carry, y_carry = carry\n",
    "    u_carry = jnp.r_[u_step, u_carry]\n",
    "    y_new = jnp.dot(b_coeff, u_carry) - jnp.dot(a_coeff, y_carry)\n",
    "\n",
    "    u_carry = u_carry[:-1]\n",
    "    y_carry = jnp.r_[y_new,  y_carry][:-1]\n",
    "    carry = (u_carry, y_carry)\n",
    "    return carry, y_new\n",
    "\n",
    "new_carry, new_y = filter_step((u_carry, y_carry), ut)\n",
    "y_carry"
   ]
  },
  {
   "cell_type": "code",
   "execution_count": null,
   "metadata": {},
   "outputs": [],
   "source": [
    "# some random data\n",
    "key = random.key(200)\n",
    "u = jax.random.normal(key, (200,))"
   ]
  },
  {
   "cell_type": "code",
   "execution_count": null,
   "metadata": {},
   "outputs": [],
   "source": [
    "# simulate with scan\n",
    "u_carry = jnp.array([0.0, 0.0]) # u-1, u-2\n",
    "y_carry = jnp.array([0.0, 0.0]) # y-1, y-2\n",
    "carry = (u_carry, y_carry)\n",
    "last_carry, y = jax.lax.scan(filter_step, carry, u)"
   ]
  },
  {
   "cell_type": "code",
   "execution_count": null,
   "metadata": {},
   "outputs": [],
   "source": [
    "# simulate with scipy\n",
    "import scipy.signal as signal\n",
    "y_lfilter = signal.lfilter(b_coeff, jnp.r_[1.0, a_coeff], u, axis=0)"
   ]
  },
  {
   "cell_type": "code",
   "execution_count": null,
   "metadata": {},
   "outputs": [],
   "source": [
    "import matplotlib.pyplot as plt\n",
    "plt.plot(y, \"k\")\n",
    "plt.plot(y_lfilter, \"b\")\n",
    "plt.plot(y-y_lfilter, \"r\");"
   ]
  }
 ],
 "metadata": {
  "kernelspec": {
   "display_name": "dev",
   "language": "python",
   "name": "python3"
  },
  "language_info": {
   "codemirror_mode": {
    "name": "ipython",
    "version": 3
   },
   "file_extension": ".py",
   "mimetype": "text/x-python",
   "name": "python",
   "nbconvert_exporter": "python",
   "pygments_lexer": "ipython3",
   "version": "3.11.0"
  }
 },
 "nbformat": 4,
 "nbformat_minor": 2
}
