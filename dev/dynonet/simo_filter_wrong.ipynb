{
 "cells": [
  {
   "cell_type": "code",
   "execution_count": null,
   "metadata": {},
   "outputs": [],
   "source": [
    "import jax\n",
    "from jax import random\n",
    "import jax.numpy as jnp\n",
    "from util import filter_step"
   ]
  },
  {
   "cell_type": "code",
   "execution_count": null,
   "metadata": {},
   "outputs": [],
   "source": [
    "O = 3  # number of outputs\n",
    "T = 1000\n",
    "na = 4\n",
    "nb = 5"
   ]
  },
  {
   "cell_type": "code",
   "execution_count": null,
   "metadata": {},
   "outputs": [],
   "source": [
    "key = random.key(200)\n",
    "b_coeff = random.normal(key, (O, nb)) * 1e-4\n",
    "a_coeff = random.normal(key, (O, na)) * 1e-4"
   ]
  },
  {
   "cell_type": "code",
   "execution_count": null,
   "metadata": {},
   "outputs": [],
   "source": [
    "# initial conditions\n",
    "u_carry = jnp.zeros((O, nb - 1))  # u-1, u-2\n",
    "y_carry = jnp.zeros((O, na))  # y-1, y-2"
   ]
  },
  {
   "cell_type": "code",
   "execution_count": null,
   "metadata": {},
   "outputs": [],
   "source": [
    "params = (b_coeff, a_coeff)\n",
    "carry = (u_carry, y_carry)\n",
    "u_step = random.normal(key, (O, 1))"
   ]
  },
  {
   "cell_type": "code",
   "execution_count": null,
   "metadata": {},
   "outputs": [],
   "source": [
    "# check on a single channel\n",
    "# params0 = (params[0][0], params[1][0])\n",
    "# carry0 = (carry[0][0], carry[1][0])\n",
    "\n",
    "# params0[0].shape, params0[1].shape\n",
    "# carry0[0].shape, carry0[1].shape\n",
    "\n",
    "# filter_step(params0, carry0, jnp.array([0.1]))"
   ]
  },
  {
   "cell_type": "code",
   "execution_count": null,
   "metadata": {},
   "outputs": [],
   "source": [
    "filter_step_bank = jax.vmap(filter_step)\n",
    "carry_new, y_new = filter_step_bank(params, carry, u_step)\n",
    "carry_new[0].shape, carry_new[1].shape, y_new.shape"
   ]
  },
  {
   "cell_type": "code",
   "execution_count": null,
   "metadata": {},
   "outputs": [],
   "source": [
    "u = random.normal(key, (T, O))\n",
    "func = lambda carry, u: filter_step_bank(params, carry, u)\n",
    "carry_last, y = jax.lax.scan(func, carry, u)\n",
    "y.shape"
   ]
  }
 ],
 "metadata": {
  "kernelspec": {
   "display_name": "dev",
   "language": "python",
   "name": "python3"
  },
  "language_info": {
   "codemirror_mode": {
    "name": "ipython",
    "version": 3
   },
   "file_extension": ".py",
   "mimetype": "text/x-python",
   "name": "python",
   "nbconvert_exporter": "python",
   "pygments_lexer": "ipython3",
   "version": "3.11.0"
  }
 },
 "nbformat": 4,
 "nbformat_minor": 2
}
