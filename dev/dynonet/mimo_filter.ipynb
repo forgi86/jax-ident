{
 "cells": [
  {
   "cell_type": "code",
   "execution_count": null,
   "metadata": {},
   "outputs": [],
   "source": [
    "import jax\n",
    "from jax import random\n",
    "import jax.numpy as jnp\n",
    "from util import filter_step"
   ]
  },
  {
   "cell_type": "code",
   "execution_count": null,
   "metadata": {},
   "outputs": [],
   "source": [
    "I = 3 # number of inputs\n",
    "O = 2 # number of outputs\n",
    "T = 1000 # number of time steps\n",
    "B = 32 # batch size\n",
    "na = 4\n",
    "nb = 5"
   ]
  },
  {
   "cell_type": "code",
   "execution_count": null,
   "metadata": {},
   "outputs": [],
   "source": [
    "key = random.key(200)\n",
    "a_coeff = random.normal(key, (O, I, na)) * 1e-3\n",
    "b_coeff = random.normal(key, (O, I, nb)) * 1e-3"
   ]
  },
  {
   "cell_type": "code",
   "execution_count": null,
   "metadata": {},
   "outputs": [],
   "source": [
    "# initial conditions\n",
    "u_carry = jnp.zeros((O, I, nb - 1))  # u-1, u-2\n",
    "y_carry = jnp.zeros((O, I, na))  # y-1, y-2"
   ]
  },
  {
   "cell_type": "code",
   "execution_count": null,
   "metadata": {},
   "outputs": [],
   "source": [
    "params = (b_coeff, a_coeff)\n",
    "carry = (u_carry, y_carry)\n",
    "u_step = random.normal(key, (O, 1))"
   ]
  },
  {
   "cell_type": "code",
   "execution_count": null,
   "metadata": {},
   "outputs": [],
   "source": [
    "filter_step_simo = jax.vmap(filter_step, in_axes=(0, 0, 0)) # params, carry, u_step\n",
    "filter_step_mimo = jax.vmap(filter_step_simo, in_axes=(0, 0, None)) # params, carry, u_step"
   ]
  },
  {
   "cell_type": "code",
   "execution_count": null,
   "metadata": {},
   "outputs": [],
   "source": [
    "u = random.normal(key, (T, I))\n",
    "def mimo_filter(params, carry, u):\n",
    "    _, y_all = jax.lax.scan(lambda carry, u: filter_step_mimo(params, carry, u), carry, u)\n",
    "    return  y_all.mean(axis=-1)\n",
    "\n",
    "y = mimo_filter(params, carry, u)\n",
    "\n",
    "#func = lambda carry, u: filter_step_mimo(params, carry, u)\n",
    "#carry_last, y_all = jax.lax.scan(func, carry, u)\n",
    "#y = y_all.mean(axis=-1)"
   ]
  },
  {
   "cell_type": "code",
   "execution_count": null,
   "metadata": {},
   "outputs": [],
   "source": [
    "import matplotlib.pyplot as plt\n",
    "from scipy.signal import lfilter\n",
    "import numpy as np\n",
    "\n",
    "y_filt = np.empty((T, O, I))\n",
    "for idx_o in range(O):\n",
    "    for idx_i in range(I):\n",
    "        y_filt[:, idx_o, idx_i] = lfilter(\n",
    "            b_coeff[idx_o, idx_i], np.r_[1.0, a_coeff[idx_o, idx_i]], u[:, idx_i]\n",
    "        ).ravel()\n",
    "y_filt = y_filt.mean(axis=-1)"
   ]
  },
  {
   "cell_type": "code",
   "execution_count": null,
   "metadata": {},
   "outputs": [],
   "source": [
    "for idx in range(O):\n",
    "    plt.figure()\n",
    "    plt.plot(y[:, idx], \"b\")\n",
    "    plt.plot(y_filt[:, idx], \"k\")\n",
    "    plt.plot(y[:, idx] - y_filt[:, idx], \"r\")"
   ]
  },
  {
   "cell_type": "code",
   "execution_count": null,
   "metadata": {},
   "outputs": [],
   "source": [
    "u = random.normal(key, (B, T, I))\n",
    "# initial conditions\n",
    "u_carry = jnp.zeros((B, O, I, nb - 1))  # u-1, u-2\n",
    "y_carry = jnp.zeros((B, O, I, na))  # y-1, y-2\n",
    "batched_mimo_filter = jax.vmap(mimo_filter, in_axes=(None, 0, 0))\n",
    "batched_mimo_filter(params, (u_carry, y_carry), u).shape"
   ]
  }
 ],
 "metadata": {
  "kernelspec": {
   "display_name": "dev",
   "language": "python",
   "name": "python3"
  },
  "language_info": {
   "codemirror_mode": {
    "name": "ipython",
    "version": 3
   },
   "file_extension": ".py",
   "mimetype": "text/x-python",
   "name": "python",
   "nbconvert_exporter": "python",
   "pygments_lexer": "ipython3",
   "version": "3.11.9"
  }
 },
 "nbformat": 4,
 "nbformat_minor": 2
}
