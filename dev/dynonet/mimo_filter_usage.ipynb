{
 "cells": [
  {
   "cell_type": "code",
   "execution_count": null,
   "metadata": {},
   "outputs": [],
   "source": [
    "import jax\n",
    "from jax import random\n",
    "import jax.numpy as jnp\n",
    "from dynonet import MimoLTI, batched_mimo_filter"
   ]
  },
  {
   "cell_type": "code",
   "execution_count": null,
   "metadata": {},
   "outputs": [],
   "source": [
    "I = 3 # number of inputs\n",
    "O = 2 # number of outputs\n",
    "T = 1000 # number of time steps\n",
    "B = 32 # batch size\n",
    "na = 4\n",
    "nb = 5"
   ]
  },
  {
   "cell_type": "code",
   "execution_count": null,
   "metadata": {},
   "outputs": [],
   "source": [
    "key = random.key(200)\n",
    "key, subkey = random.split(key)"
   ]
  },
  {
   "cell_type": "code",
   "execution_count": null,
   "metadata": {},
   "outputs": [],
   "source": [
    "u = random.normal(subkey, (B, T, I))\n",
    "model = MimoLTI(I, O, nb, na)\n",
    "key, subkey = random.split(key)\n",
    "params = model.init(subkey, u)\n",
    "y1 = model.apply(params, u)"
   ]
  },
  {
   "cell_type": "code",
   "execution_count": null,
   "metadata": {},
   "outputs": [],
   "source": [
    "u_carry = jnp.zeros((B, O, I, nb - 1))  # u-1, u-2\n",
    "y_carry = jnp.zeros((B, O, I, na))  # y-1, y-2\n",
    "\n",
    "carry = (u_carry, y_carry)\n",
    "y2 = batched_mimo_filter((params[\"params\"][\"b_coeff\"], params[\"params\"][\"a_coeff\"]), (u_carry, y_carry), u)\n",
    "y2.shape"
   ]
  },
  {
   "cell_type": "code",
   "execution_count": null,
   "metadata": {},
   "outputs": [],
   "source": [
    "jnp.allclose(y1, y2)"
   ]
  }
 ],
 "metadata": {
  "kernelspec": {
   "display_name": "dev",
   "language": "python",
   "name": "python3"
  },
  "language_info": {
   "codemirror_mode": {
    "name": "ipython",
    "version": 3
   },
   "file_extension": ".py",
   "mimetype": "text/x-python",
   "name": "python",
   "nbconvert_exporter": "python",
   "pygments_lexer": "ipython3",
   "version": "3.11.0"
  }
 },
 "nbformat": 4,
 "nbformat_minor": 2
}
