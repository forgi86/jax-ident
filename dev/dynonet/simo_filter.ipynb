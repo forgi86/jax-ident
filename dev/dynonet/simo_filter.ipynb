{
 "cells": [
  {
   "cell_type": "code",
   "execution_count": null,
   "metadata": {},
   "outputs": [],
   "source": [
    "import jax\n",
    "from jax import random\n",
    "import jax.numpy as jnp\n",
    "from util import filter_step"
   ]
  },
  {
   "cell_type": "code",
   "execution_count": null,
   "metadata": {},
   "outputs": [],
   "source": [
    "O = 3  # number of outputs\n",
    "T = 1000\n",
    "na = 4\n",
    "nb = 5"
   ]
  },
  {
   "cell_type": "code",
   "execution_count": null,
   "metadata": {},
   "outputs": [],
   "source": [
    "key = random.key(200)\n",
    "b_coeff = random.normal(key, (O, nb)) * 1e-3\n",
    "a_coeff = random.normal(key, (O, na)) * 1e-3"
   ]
  },
  {
   "cell_type": "code",
   "execution_count": null,
   "metadata": {},
   "outputs": [],
   "source": [
    "# initial conditions\n",
    "u_carry = jnp.zeros((O, nb - 1))  # u-1, u-2\n",
    "y_carry = jnp.zeros((O, na))  # y-1, y-2"
   ]
  },
  {
   "cell_type": "code",
   "execution_count": null,
   "metadata": {},
   "outputs": [],
   "source": [
    "params = (b_coeff, a_coeff)\n",
    "carry = (u_carry, y_carry)"
   ]
  },
  {
   "cell_type": "code",
   "execution_count": null,
   "metadata": {},
   "outputs": [],
   "source": [
    "u_step = random.normal(key, (1,))\n",
    "filter_step_simo = jax.vmap(filter_step, in_axes=(0, 0, None))\n",
    "carry_new, y_new = filter_step_simo(params, carry, u_step)\n",
    "carry_new[0].shape, carry_new[1].shape, y_new.shape"
   ]
  },
  {
   "cell_type": "code",
   "execution_count": null,
   "metadata": {},
   "outputs": [],
   "source": [
    "u = random.normal(key, (T, 1))\n",
    "func = lambda carry, u: filter_step_simo(params, carry, u)\n",
    "carry_last, y = jax.lax.scan(func, carry, u)\n",
    "y.shape"
   ]
  },
  {
   "cell_type": "code",
   "execution_count": null,
   "metadata": {},
   "outputs": [],
   "source": [
    "import matplotlib.pyplot as plt\n",
    "import scipy.signal\n",
    "import numpy as np\n",
    "\n",
    "for idx in range(O):\n",
    "    plt.figure()\n",
    "    plt.plot(y[:, idx], \"b\")\n",
    "    y_filt = scipy.signal.lfilter(b_coeff[idx], np.r_[1.0, a_coeff[idx]], u[:, 0])\n",
    "    plt.plot(y_filt, \"k\")\n",
    "    plt.plot(y[:, idx] - y_filt, \"r\")\n"
   ]
  }
 ],
 "metadata": {
  "kernelspec": {
   "display_name": "dev",
   "language": "python",
   "name": "python3"
  },
  "language_info": {
   "codemirror_mode": {
    "name": "ipython",
    "version": 3
   },
   "file_extension": ".py",
   "mimetype": "text/x-python",
   "name": "python",
   "nbconvert_exporter": "python",
   "pygments_lexer": "ipython3",
   "version": "3.11.0"
  }
 },
 "nbformat": 4,
 "nbformat_minor": 2
}
