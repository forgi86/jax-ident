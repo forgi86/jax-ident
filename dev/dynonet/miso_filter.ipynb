{
 "cells": [
  {
   "cell_type": "code",
   "execution_count": null,
   "metadata": {},
   "outputs": [],
   "source": [
    "import jax\n",
    "from jax import random\n",
    "import jax.numpy as jnp\n",
    "from util import filter_step"
   ]
  },
  {
   "cell_type": "code",
   "execution_count": null,
   "metadata": {},
   "outputs": [],
   "source": [
    "I = 3  # number of outputs\n",
    "T = 1000\n",
    "na = 4\n",
    "nb = 5"
   ]
  },
  {
   "cell_type": "code",
   "execution_count": null,
   "metadata": {},
   "outputs": [],
   "source": [
    "key = random.key(200)\n",
    "b_coeff = random.normal(key, (I, nb)) * 1e-3\n",
    "a_coeff = random.normal(key, (I, na)) * 1e-3"
   ]
  },
  {
   "cell_type": "code",
   "execution_count": null,
   "metadata": {},
   "outputs": [],
   "source": [
    "# initial conditions\n",
    "u_carry = jnp.zeros((I, nb - 1))  # u-1, u-2\n",
    "y_carry = jnp.zeros((I, na))  # y-1, y-2"
   ]
  },
  {
   "cell_type": "code",
   "execution_count": null,
   "metadata": {},
   "outputs": [],
   "source": [
    "params = (b_coeff, a_coeff)\n",
    "carry = (u_carry, y_carry)"
   ]
  },
  {
   "cell_type": "code",
   "execution_count": null,
   "metadata": {},
   "outputs": [],
   "source": [
    "u_step = random.normal(key, (I,))\n",
    "filter_step_simo = jax.vmap(filter_step, in_axes=(0, 0, 0)) # params, carry, u_step\n",
    "carry_new, y_new = filter_step_simo(params, carry, u_step)\n",
    "carry_new[0].shape, carry_new[1].shape, y_new.shape"
   ]
  },
  {
   "cell_type": "code",
   "execution_count": null,
   "metadata": {},
   "outputs": [],
   "source": [
    "u = random.normal(key, (T, I))\n",
    "func = lambda carry, u: filter_step_simo(params, carry, u)\n",
    "carry_last, y = jax.lax.scan(func, carry, u)\n",
    "y = y.mean(axis=-1)"
   ]
  },
  {
   "cell_type": "code",
   "execution_count": null,
   "metadata": {},
   "outputs": [],
   "source": [
    "import matplotlib.pyplot as plt\n",
    "import scipy.signal\n",
    "import numpy as np\n",
    "\n",
    "y_filt = np.empty((T, I))\n",
    "for idx in range(I):\n",
    "    y_filt[:, idx] = scipy.signal.lfilter(b_coeff[idx], np.r_[1.0, a_coeff[idx]], u[:, idx])\n",
    "y_filt = y_filt.mean(axis=-1)"
   ]
  },
  {
   "cell_type": "code",
   "execution_count": null,
   "metadata": {},
   "outputs": [],
   "source": [
    "plt.figure()\n",
    "plt.plot(y, \"b\")\n",
    "plt.plot(y_filt, \"k\")\n",
    "plt.plot(y - y_filt, \"r\")"
   ]
  }
 ],
 "metadata": {
  "kernelspec": {
   "display_name": "dev",
   "language": "python",
   "name": "python3"
  },
  "language_info": {
   "codemirror_mode": {
    "name": "ipython",
    "version": 3
   },
   "file_extension": ".py",
   "mimetype": "text/x-python",
   "name": "python",
   "nbconvert_exporter": "python",
   "pygments_lexer": "ipython3",
   "version": "3.11.0"
  }
 },
 "nbformat": 4,
 "nbformat_minor": 2
}
