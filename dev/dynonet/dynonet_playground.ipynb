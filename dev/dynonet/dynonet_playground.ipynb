{
 "cells": [
  {
   "cell_type": "code",
   "execution_count": null,
   "metadata": {},
   "outputs": [],
   "source": [
    "from jax import random\n",
    "from dynonet import MimoLTI"
   ]
  },
  {
   "cell_type": "code",
   "execution_count": null,
   "metadata": {},
   "outputs": [],
   "source": [
    "I = 1 # number of inputs\n",
    "O = 1 # number of outputs\n",
    "T = 1000 # number of time steps\n",
    "B = 32 # batch size\n",
    "na = 10\n",
    "nb = 10\n",
    "n_hidden = 20"
   ]
  },
  {
   "cell_type": "code",
   "execution_count": null,
   "metadata": {},
   "outputs": [],
   "source": [
    "key = random.key(200)\n",
    "key, subkey = random.split(key)"
   ]
  },
  {
   "cell_type": "code",
   "execution_count": null,
   "metadata": {},
   "outputs": [],
   "source": [
    "import flax.linen as nn\n",
    "from typing import Sequence\n",
    "\n",
    "class MLP(nn.Module):\n",
    "    features: Sequence[int]\n",
    "\n",
    "    def setup(self):\n",
    "        self.layers = [nn.Dense(feat) for feat in self.features]\n",
    "\n",
    "    def __call__(self, inputs):\n",
    "        x = inputs\n",
    "        for i, lyr in enumerate(self.layers):\n",
    "            x = lyr(x)\n",
    "            if i != len(self.layers) - 1:\n",
    "                x = nn.tanh(x)\n",
    "        return x\n",
    "    \n",
    "class DynoNet(nn.Module):\n",
    "  in_channels: int = 1\n",
    "  out_channels: int = 1\n",
    "  nb: int = 10\n",
    "  na: int = 10\n",
    "  n_hidden: int = 20 \n",
    "\n",
    "  @nn.compact\n",
    "  def __call__(self, u):\n",
    "    y = nn.Sequential([MimoLTI(I, 4, nb, na),\n",
    "                          MLP([n_hidden, 3]),\n",
    "                          MimoLTI(3, O, nb, na)]\n",
    "    )(u)\n",
    "    return y + MimoLTI(I, O, nb, na)(u)\n",
    "\n"
   ]
  },
  {
   "cell_type": "code",
   "execution_count": null,
   "metadata": {},
   "outputs": [],
   "source": [
    "key, subkey = random.split(key)\n",
    "u = random.normal(subkey, (B, T, I))\n",
    "model = DynoNet()\n",
    "key, subkey = random.split(key)\n",
    "params = model.init(subkey, u)\n",
    "y1 = model.apply(params, u)\n",
    "y1.shape"
   ]
  }
 ],
 "metadata": {
  "kernelspec": {
   "display_name": "dev",
   "language": "python",
   "name": "python3"
  },
  "language_info": {
   "codemirror_mode": {
    "name": "ipython",
    "version": 3
   },
   "file_extension": ".py",
   "mimetype": "text/x-python",
   "name": "python",
   "nbconvert_exporter": "python",
   "pygments_lexer": "ipython3",
   "version": "3.11.0"
  }
 },
 "nbformat": 4,
 "nbformat_minor": 2
}
