{
 "cells": [
  {
   "cell_type": "code",
   "execution_count": null,
   "metadata": {},
   "outputs": [],
   "source": [
    "import nonlinear_benchmarks\n",
    "import jax\n",
    "import jax.numpy as jnp\n",
    "#import orbax\n",
    "#import orbax.checkpoint\n",
    "import torch\n",
    "from pathlib import Path\n",
    "from jaxid.models import StateUpdateAndOptput, MLP\n",
    "import jaxid.metrics\n",
    "import matplotlib.pyplot as plt\n",
    "from argparse import Namespace"
   ]
  },
  {
   "cell_type": "code",
   "execution_count": null,
   "metadata": {},
   "outputs": [],
   "source": [
    "ckpt = torch.load(\"ckpt.pt\")\n",
    "#orbax.checkpoint.PyTreeCheckpointer().restore(\n",
    "#    Path(\".\").resolve() / \"models\" / \"model1\"\n",
    "#)\n",
    "cfg = ckpt[\"cfg\"]\n",
    "cfg = Namespace(**cfg)"
   ]
  },
  {
   "cell_type": "code",
   "execution_count": null,
   "metadata": {},
   "outputs": [],
   "source": [
    "f_xu = MLP(cfg.hidden_f + [cfg.nx])\n",
    "g_x = MLP(cfg.hidden_g + [cfg.ny])\n",
    "fg = StateUpdateAndOptput(f_xu, g_x)"
   ]
  },
  {
   "cell_type": "code",
   "execution_count": null,
   "metadata": {},
   "outputs": [],
   "source": [
    "# Load test data\n",
    "train_val, test = nonlinear_benchmarks.WienerHammerBenchMark()\n",
    "u_test, y_test = test\n",
    "u_test = u_test.reshape(-1, 1)\n",
    "y_test = y_test.reshape(-1, 1)"
   ]
  },
  {
   "cell_type": "code",
   "execution_count": null,
   "metadata": {},
   "outputs": [],
   "source": [
    "# Load scalers\n",
    "params = ckpt[\"params\"]\n",
    "scaler_u = ckpt[\"scaler_u\"]\n",
    "scaler_y = ckpt[\"scaler_y\"]"
   ]
  },
  {
   "cell_type": "code",
   "execution_count": null,
   "metadata": {},
   "outputs": [],
   "source": [
    "# Define loss\n",
    "def simulate(params, x0, u_seq):\n",
    "    fg_func = lambda x, u: fg.apply(params, x, u)\n",
    "    return jax.lax.scan(fg_func, x0, u_seq)"
   ]
  },
  {
   "cell_type": "code",
   "execution_count": null,
   "metadata": {},
   "outputs": [],
   "source": [
    "u_test = scaler_u.transform(u_test)\n",
    "x0 = jnp.zeros(cfg.nx)\n",
    "_, y_test_hat = simulate(params, x0, u_test)\n",
    "y_test_hat = scaler_y.inverse_transform(y_test_hat)"
   ]
  },
  {
   "cell_type": "code",
   "execution_count": null,
   "metadata": {},
   "outputs": [],
   "source": [
    "plt.plot(y_test, \"k\")\n",
    "plt.plot(y_test_hat, \"b\")\n",
    "plt.plot(y_test_hat - y_test, \"r\")\n",
    "plt.show()"
   ]
  },
  {
   "cell_type": "code",
   "execution_count": null,
   "metadata": {},
   "outputs": [],
   "source": [
    "plt.plot(ckpt[\"LOSS\"])"
   ]
  },
  {
   "cell_type": "code",
   "execution_count": null,
   "metadata": {},
   "outputs": [],
   "source": [
    "fit = jaxid.metrics.fit_index(y_test, y_test_hat)[0]\n",
    "rmse = jaxid.metrics.rmse(y_test, y_test_hat)[0] * 1000\n",
    "nrmse = jaxid.metrics.nrmse(y_test, y_test_hat)[0]\n",
    "\n",
    "print(f\"{fit=} \\n{rmse=} mV \\n{nrmse=}\")"
   ]
  }
 ],
 "metadata": {
  "kernelspec": {
   "display_name": "bda",
   "language": "python",
   "name": "python3"
  },
  "language_info": {
   "codemirror_mode": {
    "name": "ipython",
    "version": 3
   },
   "file_extension": ".py",
   "mimetype": "text/x-python",
   "name": "python",
   "nbconvert_exporter": "python",
   "pygments_lexer": "ipython3",
   "version": "3.11.0"
  }
 },
 "nbformat": 4,
 "nbformat_minor": 2
}
