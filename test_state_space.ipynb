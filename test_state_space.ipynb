{
 "cells": [
  {
   "cell_type": "code",
   "execution_count": null,
   "metadata": {},
   "outputs": [],
   "source": [
    "import nonlinear_benchmarks\n",
    "import nonlinear_benchmarks.error_metrics as metrics\n",
    "import jax.numpy as jnp\n",
    "import torch\n",
    "from jaxid.common import MLP\n",
    "from jaxid.statespace import StateUpdateMLP, Simulator\n",
    "import matplotlib.pyplot as plt"
   ]
  },
  {
   "cell_type": "code",
   "execution_count": null,
   "metadata": {},
   "outputs": [],
   "source": [
    "#ckpt = torch.load(\"ss_subnet.pt\")\n",
    "ckpt = torch.load(\"ss.pt\")\n",
    "cfg = ckpt[\"cfg\"]"
   ]
  },
  {
   "cell_type": "code",
   "execution_count": null,
   "metadata": {},
   "outputs": [],
   "source": [
    "f_xu = StateUpdateMLP(cfg.hidden_f + [cfg.nx])\n",
    "g_x = MLP(cfg.hidden_g + [cfg.ny])\n",
    "model = Simulator(f_xu, g_x)"
   ]
  },
  {
   "cell_type": "code",
   "execution_count": null,
   "metadata": {},
   "outputs": [],
   "source": [
    "# Load test data\n",
    "train_val, test = nonlinear_benchmarks.WienerHammerBenchMark()\n",
    "u_test, y_test = test\n",
    "u_test = u_test.reshape(-1, 1)\n",
    "y_test = y_test.reshape(-1, 1)"
   ]
  },
  {
   "cell_type": "code",
   "execution_count": null,
   "metadata": {},
   "outputs": [],
   "source": [
    "# Load scalers\n",
    "params = ckpt[\"params\"]\n",
    "scaler_u = ckpt[\"scaler_u\"]\n",
    "scaler_y = ckpt[\"scaler_y\"]"
   ]
  },
  {
   "cell_type": "code",
   "execution_count": null,
   "metadata": {},
   "outputs": [],
   "source": [
    "u_test = scaler_u.transform(u_test)\n",
    "x0 = jnp.zeros(cfg.nx)\n",
    "y_test_hat = model.apply(params, x0, u_test)\n",
    "y_test_hat = scaler_y.inverse_transform(y_test_hat)"
   ]
  },
  {
   "cell_type": "code",
   "execution_count": null,
   "metadata": {},
   "outputs": [],
   "source": [
    "plt.plot(y_test, \"k\")\n",
    "plt.plot(y_test_hat, \"b\")\n",
    "plt.plot(y_test_hat - y_test, \"r\")\n",
    "plt.show()"
   ]
  },
  {
   "cell_type": "code",
   "execution_count": null,
   "metadata": {},
   "outputs": [],
   "source": [
    "plt.plot(ckpt[\"LOSS\"])"
   ]
  },
  {
   "cell_type": "code",
   "execution_count": null,
   "metadata": {},
   "outputs": [],
   "source": [
    "fit = metrics.fit_index(y_test, y_test_hat)[0]\n",
    "rmse = metrics.RMSE(y_test, y_test_hat)[0] * 1000\n",
    "nrmse = metrics.NRMSE(y_test, y_test_hat)[0]\n",
    "\n",
    "print(f\"{fit=} \\n{rmse=} mV \\n{nrmse=}\")"
   ]
  }
 ],
 "metadata": {
  "kernelspec": {
   "display_name": "bda",
   "language": "python",
   "name": "python3"
  },
  "language_info": {
   "codemirror_mode": {
    "name": "ipython",
    "version": 3
   },
   "file_extension": ".py",
   "mimetype": "text/x-python",
   "name": "python",
   "nbconvert_exporter": "python",
   "pygments_lexer": "ipython3",
   "version": "3.11.0"
  }
 },
 "nbformat": 4,
 "nbformat_minor": 2
}
